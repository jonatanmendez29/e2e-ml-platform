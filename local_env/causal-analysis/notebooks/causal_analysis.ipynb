{
 "cells": [
  {
   "cell_type": "markdown",
   "metadata": {},
   "source": [
    "# Causal Analysis of Marketing Email Campaign\n",
    "\n",
    "This notebook provides an interactive exploration of causal inference methods for evaluating the impact of a marketing email campaign."
   ]
  },
  {
   "cell_type": "code",
   "execution_count": null,
   "metadata": {},
   "outputs": [],
   "source": [
    "# Import libraries\n",
    "import pandas as pd\n",
    "import numpy as np\n",
    "import matplotlib.pyplot as plt\n",
    "import seaborn as sns\n",
    "from scripts.causal_analysis import MarketingCampaignAnalysis\n",
    "\n",
    "# Set up plotting\n",
    "%matplotlib inline\n",
    "plt.style.use('seaborn-v0_8')\n",
    "sns.set_palette('colorblind')"
   ]
  },
  {
   "cell_type": "code",
   "execution_count": null,
   "metadata": {},
   "outputs": [],
   "source": [
    "# Load data\n",
    "data = pd.read_csv('../data/marketing_campaign_data.csv')\n",
    "print(f\"Dataset shape: {data.shape}\")\n",
    "data.head()"
   ]
  },
  {
   "cell_type": "code",
   "execution_count": null,
   "metadata": {},
   "outputs": [],
   "source": [
    "# Initialize analysis\n",
    "analysis = MarketingCampaignAnalysis('../data/marketing_campaign_data.csv')"
   ]
  },
  {
   "cell_type": "code",
   "execution_count": null,
   "metadata": {},
   "outputs": [],
   "source": [
    "# Exploratory analysis\n",
    "balance_df = analysis.exploratory_analysis()\n",
    "balance_df"
   ]
  },
  {
   "cell_type": "code",
   "execution_count": null,
   "metadata": {},
   "outputs": [],
   "source": [
    "# Naive comparison\n",
    "naive_ate, naive_model = analysis.naive_comparison()\n",
    "print(f\"Naive ATE: {naive_ate:.2f}\")\n",
    "print(f\"Regression adjustment ATE: {naive_model.params['received_email']:.2f}\")"
   ]
  },
  {
   "cell_type": "code",
   "execution_count": null,
   "metadata": {},
   "outputs": [],
   "source": [
    "# Propensity Score Matching\n",
    "psm_ate, matched_data = analysis.propensity_score_matching()\n",
    "print(f\"PSM ATE: {psm_ate:.2f}\")\n",
    "\n",
    "# Check balance after matching\n",
    "covariates = ['age', 'total_past_purchases', 'total_past_spend', \n",
    "              'days_since_last_purchase', 'email_opens_30d', 'activity_score']\n",
    "\n",
    "balance_after = pd.DataFrame()\n",
    "for covariate in covariates:\n",
    "    treatment_mean = matched_data[matched_data['received_email'] == 1][covariate].mean()\n",
    "    control_mean = matched_data[matched_data['received_email'] == 0][covariate].mean()\n",
    "    balance_after = balance_after.append({\n",
    "        'covariate': covariate,\n",
    "        'treatment_mean': treatment_mean,\n",
    "        'control_mean': control_mean,\n",
    "        'difference': treatment_mean - control_mean,\n",
    "        'std_diff': (treatment_mean - control_mean) / matched_data[covariate].std()\n",
    "    }, ignore_index=True)\n",
    "\n",
    "print(\"\\nBalance after matching:\")\n",
    "balance_after"
   ]
  },
  {
   "cell_type": "code",
   "execution_count": null,
   "metadata": {},
   "outputs": [],
   "source": [
    "# Difference-in-Differences\n",
    "did_estimate, did_model = analysis.difference_in_differences()\n",
    "print(f\"DiD estimate: {did_estimate:.2f}\")\n",
    "print(f\"Regression DiD estimate: {did_model.params['treatment_group:post_period']:.2f}\")\n",
    "\n",
    "# Plot DiD results\n",
    "treatment_pre = data[data['received_email'] == 1]['pre_campaign_sales'].mean()\n",
    "treatment_post = data[data['received_email'] == 1]['post_campaign_sales'].mean()\n",
    "control_pre = data[data['received_email'] == 0]['pre_campaign_sales'].mean()\n",
    "control_post = data[data['received_email'] == 0]['post_campaign_sales'].mean()\n",
    "\n",
    "periods = ['Pre', 'Post']\n",
    "treatment_means = [treatment_pre, treatment_post]\n",
    "control_means = [control_pre, control_post]\n",
    "\n",
    "plt.figure(figsize=(10, 6))\n",
    "plt.plot(periods, treatment_means, 'o-', label='Treatment')\n",
    "plt.plot(periods, control_means, 'o-', label='Control')\n",
    "plt.xlabel('Period')\n",
    "plt.ylabel('Sales')\n",
    "plt.title('Difference-in-Differences Analysis')\n",
    "plt.legend()\n",
    "plt.grid(True)\n",
    "plt.show()"
   ]
  },
  {
   "cell_type": "code",
   "execution_count": null,
   "metadata": {},
   "outputs": [],
   "source": [
    "# DoWhy analysis\n",
    "dowhy_estimate = analysis.dowhy_analysis()\n",
    "print(f\"DoWhy ATE: {dowhy_estimate.value:.2f}\")"
   ]
  },
  {
   "cell_type": "code",
   "execution_count": null,
   "metadata": {},
   "outputs": [],
   "source": [
    "# EconML analysis\n",
    "s_ate, t_ate, dml_ate = analysis.econml_analysis()\n",
    "print(f\"S-Learner ATE: {s_ate:.2f}\")\n",
    "print(f\"T-Learner ATE: {t_ate:.2f}\")\n",
    "print(f\"DML ATE: {dml_ate:.2f}\")"
   ]
  },
  {
   "cell_type": "code",
   "execution_count": null,
   "metadata": {},
   "outputs": [],
   "source": [
    "# Compare all methods\n",
    "results_df = pd.DataFrame({\n",
    "    'Method': ['Naive Difference', 'Regression Adjustment', 'Propensity Score Matching',\n",
    "              'Difference-in-Differences', 'DoWhy', 'S-Learner', 'T-Learner', 'DML'],\n",
    "    'ATE': [\n",
    "        analysis.results['naive']['difference_in_means'],\n",
    "        analysis.results['naive']['regression_adjustment'],\n",
    "        analysis.results['psm']['ate'],\n",
    "        analysis.results['did']['simple_did'],\n",
    "        analysis.results['dowhy']['estimate'],\n",
    "        analysis.results['econml']['s_learner'],\n",
    "        analysis.results['econml']['t_learner'],\n",
    "        analysis.results['econml']['dml']\n",
    "    ]\n",
    "})\n",
    "\n",
    "plt.figure(figsize=(12, 8))\n",
    "plt.bar(results_df['Method'], results_df['ATE'])\n",
    "plt.axhline(y=15, color='r', linestyle='--', label='True ATE (15)')\n",
    "plt.xlabel('Method')\n",
    "plt.ylabel('Average Treatment Effect')\n",
    "plt.title('Comparison of Causal Inference Methods')\n",
    "plt.xticks(rotation=45, ha='right')\n",
    "plt.legend()\n",
    "plt.tight_layout()\n",
    "plt.show()\n",
    "\n",
    "results_df"
   ]
  },
  {
   "cell_type": "code",
   "execution_count": null,
   "metadata": {},
   "outputs": [],
   "source": [
    "# Conclusion\n",
    "print(\"CONCLUSION:\")\n",
    "print(\"The marketing email campaign had a positive effect on sales.\")\n",
    "print(\"After accounting for confounding variables using advanced causal inference methods,\")\n",
    "print(\"we estimate the average treatment effect to be approximately $15 in increased sales per customer.\")\n",
    "print(\"\\nThe naive comparison overestimates the effect due to selection bias,\")\n",
    "print(\"as more active customers were more likely to receive the email and also more likely to make purchases.\")"
   ]
  }
 ],
 "metadata": {
  "kernelspec": {
   "display_name": "Python 3",
   "language": "python",
   "name": "python3"
  },
  "language_info": {
   "codemirror_mode": {
    "name": "ipython",
    "version": 3
   },
   "file_extension": ".py",
   "mimetype": "text/x-python",
   "name": "python",
   "nbconvert_exporter": "python",
   "pygments_lexer": "ipython3",
   "version": "3.9.0"
  }
 },
 "nbformat": 4,
 "nbformat_minor": 4
}